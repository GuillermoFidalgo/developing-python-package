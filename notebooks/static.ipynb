{
 "cells": [
  {
   "cell_type": "markdown",
   "id": "c7981c0e-3475-45ad-986c-e699cdb49800",
   "metadata": {},
   "source": [
    "# Static checks\n",
    "\n",
    "<https://scikit-hep.org/developer/style>\n",
    "\n",
    "Pre-commit is a fantastic tool! Let's see how it works."
   ]
  },
  {
   "cell_type": "markdown",
   "id": "4e56e3d8-b90f-4315-bb58-3b016845dcd8",
   "metadata": {},
   "source": [
    "```yaml\n",
    "repos:\n",
    "  - repo: https://github.com/pre-commit/pre-commit-hooks\n",
    "    rev: \"v4.3.0\"\n",
    "    hooks:\n",
    "      - id: check-added-large-files\n",
    "      - id: check-case-conflict\n",
    "      - id: check-merge-conflict\n",
    "      - id: check-symlinks\n",
    "      - id: check-yaml\n",
    "      - id: debug-statements\n",
    "      - id: end-of-file-fixer\n",
    "      - id: mixed-line-ending\n",
    "      - id: name-tests-test\n",
    "        args: [\"--pytest-test-first\"]\n",
    "      - id: requirements-txt-fixer\n",
    "      - id: trailing-whitespace\n",
    "```"
   ]
  },
  {
   "cell_type": "markdown",
   "id": "0555c6ff-0596-4505-9b6f-c8dae9fd1296",
   "metadata": {},
   "source": [
    "## Black & Jupyter notebooks\n",
    "\n",
    "```yaml\n",
    "- repo: https://github.com/psf/black\n",
    "  rev: \"22.6.0\"\n",
    "  hooks:\n",
    "    - id: black-jupyter\n",
    "- repo: https://github.com/kynan/nbstripout\n",
    "  rev: \"0.5.0\"\n",
    "  hooks:\n",
    "    - id: nbstripout\n",
    "```"
   ]
  },
  {
   "cell_type": "markdown",
   "id": "961552cc-58d9-4871-93d9-706066d46823",
   "metadata": {},
   "source": [
    "## MyPy and static typing\n",
    "\n",
    "See <https://scikit-hep.org/developer/mypy> too\n",
    "\n",
    "```yaml\n",
    "- repo: https://github.com/pre-commit/mirrors-mypy\n",
    "  rev: \"v0.961\"\n",
    "  hooks:\n",
    "    - id: mypy\n",
    "      files: src\n",
    "      args: []\n",
    "```\n",
    "\n",
    "```python\n",
    "def f(x: int) -> int:\n",
    "    return x * 5\n",
    "```"
   ]
  },
  {
   "cell_type": "code",
   "execution_count": null,
   "id": "64744cb3-5ec9-45f4-9041-42c692405b88",
   "metadata": {},
   "outputs": [],
   "source": []
  }
 ],
 "metadata": {
  "kernelspec": {
   "display_name": "Python [conda env:developing-python-package] *",
   "language": "python",
   "name": "conda-env-developing-python-package-py"
  },
  "language_info": {
   "codemirror_mode": {
    "name": "ipython",
    "version": 3
   },
   "file_extension": ".py",
   "mimetype": "text/x-python",
   "name": "python",
   "nbconvert_exporter": "python",
   "pygments_lexer": "ipython3",
   "version": "3.10.0"
  }
 },
 "nbformat": 4,
 "nbformat_minor": 5
}
