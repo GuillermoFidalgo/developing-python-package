{
 "cells": [
  {
   "cell_type": "markdown",
   "id": "4571e062-9d6c-49ec-90d7-39a487a2717e",
   "metadata": {},
   "source": [
    "# Environments\n",
    "\n",
    "See Scikit-HEP Developer Pages <https://scikit-hep.org/developer/intro>\n",
    "\n",
    "If you name a venv `.venv` and use `py`, the Python Launcher for UNIX, then it will pick it up automatically."
   ]
  },
  {
   "cell_type": "markdown",
   "id": "090a776a-f9f3-4e10-9180-89dae60e7732",
   "metadata": {},
   "source": [
    "## Avoiding environments for CLIs"
   ]
  },
  {
   "cell_type": "markdown",
   "id": "fa53d908-5743-492d-b0b3-4a75084e0e34",
   "metadata": {},
   "source": [
    "Manual virtual environments should be avoided for CLIs, `pipx` can be used instead."
   ]
  },
  {
   "cell_type": "markdown",
   "id": "68151dc7-ae1c-46eb-a013-847d7df19e9c",
   "metadata": {},
   "source": [
    "Run method:\n",
    "\n",
    "```\n",
    "pipx run <package&app name>\n",
    "```\n",
    "\n",
    "App will be reinstalled if over 7 days old."
   ]
  },
  {
   "cell_type": "markdown",
   "id": "d4f8e8c6-a4f5-45aa-adc9-a03c342eb872",
   "metadata": {},
   "source": [
    "Install method:\n",
    "\n",
    "```\n",
    "pipx install <package name>\n",
    "<app name>\n",
    "```"
   ]
  },
  {
   "cell_type": "markdown",
   "id": "63a1604e-f6b5-4896-89b2-bbfb4eb5ab90",
   "metadata": {},
   "source": [
    "## Locking environments\n",
    "\n",
    "The _only_ way to ensure an appliation will continue to run is to keep a lock file. Ideally with hashes if security is important.\n",
    "\n",
    "There are two files - an unlocked file and a lock file. You manually run a command to update the lock file with the unlocked file."
   ]
  }
 ],
 "metadata": {
  "kernelspec": {
   "display_name": "Python [conda env:developing-python-package] *",
   "language": "python",
   "name": "conda-env-developing-python-package-py"
  },
  "language_info": {
   "codemirror_mode": {
    "name": "ipython",
    "version": 3
   },
   "file_extension": ".py",
   "mimetype": "text/x-python",
   "name": "python",
   "nbconvert_exporter": "python",
   "pygments_lexer": "ipython3",
   "version": "3.10.0"
  }
 },
 "nbformat": 4,
 "nbformat_minor": 5
}
