{
 "cells": [
  {
   "cell_type": "markdown",
   "id": "0707567b-67d0-468f-a038-597d60f33225",
   "metadata": {},
   "source": [
    "# Creating a package\n",
    "\n",
    "\n",
    "## Method 1: manually\n",
    "\n",
    "This is what we'll be doing today."
   ]
  },
  {
   "cell_type": "markdown",
   "id": "763565ca-1cd4-4c60-9163-21106b1c4cf9",
   "metadata": {},
   "source": [
    "## Method 2: Scikit-HEP/cookie\n",
    "\n",
    "<https://github.com/scikit-hep/cookie>\n",
    "\n",
    "After today, you can just use:\n",
    "\n",
    "```\n",
    "pipx run cookiecutter gh:scikit-hep/cookie\n",
    "```\n",
    "\n",
    "To quickly make a new package with any one of 11 backends!"
   ]
  },
  {
   "cell_type": "markdown",
   "id": "b8eb3be3-8b00-4beb-806c-17f4849e009e",
   "metadata": {},
   "source": [
    "## Bonus: Analysis code / application (not a true package)"
   ]
  },
  {
   "cell_type": "markdown",
   "id": "4d6feccb-cd84-4066-a508-5693732d2686",
   "metadata": {},
   "source": [
    "If you don't plan to ship to PyPI / be pip installable, you might have an application (not to be confused with a command line application that you do ship to PyPI).\n",
    "\n",
    "You don't need to set these up as a package (though you can), but many of the things we'll be covering are still useful, and you'll also be especially interested in lock files to make it reproducible."
   ]
  },
  {
   "cell_type": "markdown",
   "id": "e7e62825-78a5-42d7-a01e-5c59c9f942b0",
   "metadata": {},
   "source": [
    "---\n",
    "\n",
    "## Creating a package\n",
    "\n",
    "See\n",
    "\n",
    "* <https://packaging.python.org/en/latest/tutorials/packaging-projects/>\n",
    "* <https://scikit-hep.org/developer/pep621>\n",
    "\n",
    "```\n",
    "packaging_tutorial/\n",
    "├── LICENSE\n",
    "├── pyproject.toml\n",
    "├── README.md\n",
    "├── src/\n",
    "│   └── example_package_YOUR_USERNAME_HERE/\n",
    "│       ├── __init__.py\n",
    "│       └── example.py\n",
    "└── tests/\n",
    "```"
   ]
  },
  {
   "cell_type": "markdown",
   "id": "51ecb5f3-c411-4eee-a98b-50a64c719559",
   "metadata": {},
   "source": [
    "```toml\n",
    "[build-system]\n",
    "requires = [\"hatchling\"]\n",
    "build-backend = \"hatchling.build\"\n",
    "\n",
    "[project]\n",
    "name = \"example_package_YOUR_USERNAME_HERE\"\n",
    "version = \"0.0.1\"\n",
    "authors = [\n",
    "  { name=\"Example Author\", email=\"author@example.com\" },\n",
    "]\n",
    "description = \"A small example package\"\n",
    "readme = \"README.md\"\n",
    "license = { file=\"LICENSE\" }\n",
    "requires-python = \">=3.8\"\n",
    "classifiers = [\n",
    "    \"Programming Language :: Python :: 3\",\n",
    "    \"License :: OSI Approved :: MIT License\",\n",
    "    \"Operating System :: OS Independent\",\n",
    "]\n",
    "\n",
    "[project.urls]\n",
    "\"Homepage\" = \"https://github.com/pypa/sampleproject\"\n",
    "\"Bug Tracker\" = \"https://github.com/pypa/sampleproject/issues\"\n",
    "```"
   ]
  },
  {
   "cell_type": "markdown",
   "id": "3e86b142-84e1-43e8-bfb8-e10a701e2f1b",
   "metadata": {},
   "source": [
    "```bash\n",
    "pipx run build\n",
    "pipx run  twine upload --repository testpypi dist/*\n",
    "```"
   ]
  },
  {
   "cell_type": "code",
   "execution_count": null,
   "id": "8588287a-7327-4a36-a57d-0f46024c4d52",
   "metadata": {},
   "outputs": [],
   "source": []
  }
 ],
 "metadata": {
  "kernelspec": {
   "display_name": "Python [conda env:developing-python-package] *",
   "language": "python",
   "name": "conda-env-developing-python-package-py"
  },
  "language_info": {
   "codemirror_mode": {
    "name": "ipython",
    "version": 3
   },
   "file_extension": ".py",
   "mimetype": "text/x-python",
   "name": "python",
   "nbconvert_exporter": "python",
   "pygments_lexer": "ipython3",
   "version": "3.10.0"
  }
 },
 "nbformat": 4,
 "nbformat_minor": 5
}
