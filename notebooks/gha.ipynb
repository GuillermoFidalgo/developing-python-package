{
 "cells": [
  {
   "cell_type": "markdown",
   "id": "7a41e767-0a43-4ad4-b6c0-8dd1d50de3e8",
   "metadata": {},
   "source": [
    "# GitHub Actions\n",
    "\n",
    "<https://scikit-hep.org/developer/gha_basic>\n",
    "\n",
    "Setting up GHA for a Python project"
   ]
  },
  {
   "cell_type": "markdown",
   "id": "b1224e07-2937-44de-9e75-6832d585882d",
   "metadata": {},
   "source": [
    "## Header"
   ]
  },
  {
   "cell_type": "markdown",
   "id": "f6e8c504-9f27-4119-9165-13d5b7802a7b",
   "metadata": {},
   "source": [
    "```yaml\n",
    "name: CI\n",
    "\n",
    "on:\n",
    "  pull_request:\n",
    "  push:\n",
    "    branches:\n",
    "      - main\n",
    "      \n",
    "concurrency:\n",
    "  group: ${{ github.workflow }}-${{ github.ref }}\n",
    "  cancel-in-progress: true\n",
    "```"
   ]
  },
  {
   "cell_type": "markdown",
   "id": "be37a6f9-7a59-4090-994f-ea72197b5333",
   "metadata": {},
   "source": [
    "## Single Python version"
   ]
  },
  {
   "cell_type": "markdown",
   "id": "ffd20945-7118-4ead-a03d-88e801f16fba",
   "metadata": {},
   "source": [
    "```yaml\n",
    "tests:\n",
    "  runs-on: ubuntu-latest\n",
    "  name: Check Python 3.10\n",
    "  steps:\n",
    "    - uses: actions/checkout@v3\n",
    "\n",
    "    - name: Setup Python 3.10\n",
    "      uses: actions/setup-python@v4\n",
    "      with:\n",
    "        python-version: \"3.10\"\n",
    "\n",
    "    - name: Install package\n",
    "      run: python -m pip install -e .[test]\n",
    "\n",
    "    - name: Test package\n",
    "      run: python -m pytest\n",
    "```"
   ]
  },
  {
   "cell_type": "markdown",
   "id": "18a0e456-2425-4389-ac88-e7a7dc80ea1c",
   "metadata": {},
   "source": [
    "## Defining a matrix"
   ]
  },
  {
   "cell_type": "markdown",
   "id": "af9e1889-290a-47f6-b8ad-17749247988f",
   "metadata": {},
   "source": [
    "```yaml\n",
    "tests:\n",
    "  runs-on: ubuntu-latest\n",
    "  strategy:\n",
    "    fail-fast: false\n",
    "    matrix:\n",
    "      python-version:\n",
    "        - \"3.7\"\n",
    "        - \"3.10\"\n",
    "  name: Check Python ${{ matrix.python-version }}\n",
    "  steps:\n",
    "    - uses: actions/checkout@v3\n",
    "\n",
    "    - name: Setup Python ${{ matrix.python-version }}\n",
    "      uses: actions/setup-python@v4\n",
    "      with:\n",
    "        python-version: ${{ matrix.python-version }}\n",
    "\n",
    "    - name: Install package\n",
    "      run: python -m pip install -e .[test]\n",
    "\n",
    "    - name: Test package\n",
    "      run: python -m pytest\n",
    "```"
   ]
  },
  {
   "cell_type": "markdown",
   "id": "b3eacdf5-e54c-4ffc-95da-8afb7bc1c768",
   "metadata": {},
   "source": [
    "Pipx is natively supported!"
   ]
  },
  {
   "cell_type": "code",
   "execution_count": null,
   "id": "3167f903-acb4-4122-bf72-cfaae16789f1",
   "metadata": {},
   "outputs": [],
   "source": []
  }
 ],
 "metadata": {
  "kernelspec": {
   "display_name": "Python [conda env:developing-python-package] *",
   "language": "python",
   "name": "conda-env-developing-python-package-py"
  },
  "language_info": {
   "codemirror_mode": {
    "name": "ipython",
    "version": 3
   },
   "file_extension": ".py",
   "mimetype": "text/x-python",
   "name": "python",
   "nbconvert_exporter": "python",
   "pygments_lexer": "ipython3",
   "version": "3.10.0"
  }
 },
 "nbformat": 4,
 "nbformat_minor": 5
}
