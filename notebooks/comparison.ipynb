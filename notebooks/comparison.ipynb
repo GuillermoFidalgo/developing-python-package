{
 "cells": [
  {
   "cell_type": "markdown",
   "id": "94af64bc-7be8-492d-b0ab-0bdf4d58a985",
   "metadata": {},
   "source": [
    "# Developing a Python package"
   ]
  },
  {
   "cell_type": "markdown",
   "id": "a6833780-74c6-4f99-bc9b-b896c2c62df9",
   "metadata": {},
   "source": [
    "## Environment setup\n",
    "\n",
    "If you use PDM / Hatch / Poetry, this is done for you. For this tutorial, we will do it ourselves.\n",
    "\n",
    "| Package    | Env | Lock | Build | Tasks | Notes |\n",
    "|------------|-----|------|-------|-------|-------|\n",
    "| venv       | ✅  |      |       |       | Standard lib |\n",
    "| virtualenv | ✅  |      |       |       | Faster than venv |\n",
    "| Pipenv     | ✅  | ✅   |       |       | Somewhat discoraged |\n",
    "| pip-tools  |     | ✅   |       |       | pip-compile |\n",
    "| PDM        | ✅  | ✅   |  ✅   |       |  |\n",
    "| Poetry     | ✅  | ✅   |  ✅   |       | Doesn't follow standards yet |\n",
    "| Hatch      | ✅  |      |  ✅   | ✅    |  |\n",
    "| Tox        | ✅  |      |       | ✅    |  |\n",
    "| Nox        | ✅  |      |       | ✅    | Supports conda too |\n",
    "| Flit       |     |      |   ✅  |       | Separate from flit-core |"
   ]
  },
  {
   "cell_type": "markdown",
   "id": "861ccaf0-4421-4ed4-ab78-9e4c07457af5",
   "metadata": {},
   "source": [
    "Build backends:\n",
    "\n",
    "| Package       | PEP 621 | Binary | VCS | Notes |\n",
    "|---------------|---------|--------|-----|-------|\n",
    "| setuptools    |         |  ✅    |  ✅ | Classic setup.py |\n",
    "| setuptools>61 |  ✅     |        |  ✅ |  |\n",
    "| hatchling     |  ✅     |        |  ✅ |  |\n",
    "| flit-core     |  ✅     |        |     | Limited in standard PEP 517 mode |\n",
    "| pdm-pep517    |  ✅     |        |  ✅ |  |\n",
    "| peotry-core   |         |        |  ✅ |  |\n",
    "\n",
    "If you are interested in binaries, scikit-build, mesonpy, enscons are things to watch.\n"
   ]
  },
  {
   "cell_type": "markdown",
   "id": "6000c820-48dd-4800-a5d0-fd9d0a01fc10",
   "metadata": {},
   "source": [
    "## Recommendations\n",
    "\n",
    "Best tool for each job:\n",
    "\n",
    "* Make environements with venv/virtualenv (same interface)\n",
    "* Use hatchling for pure Python projects (simple, great build backend)\n",
    "* Use pip-tools if you need to lock environments\n",
    "* Use Nox for running tasks\n",
    "* Use pipx to run dedicated tools (build, twine)\n",
    "\n",
    "Alternate \"all-in-one\" approach:\n",
    "\n",
    "* Use PDM and get locking environments\n",
    "* Still use hatchling for the backend\n",
    "* Still use Nox for running tasks\n",
    "\n",
    "In the future, if Hatch gains lockfile support (was hoping for standarization), it could be a true all-in-one."
   ]
  }
 ],
 "metadata": {
  "kernelspec": {
   "display_name": "Python [conda env:developing-python-package] *",
   "language": "python",
   "name": "conda-env-developing-python-package-py"
  },
  "language_info": {
   "codemirror_mode": {
    "name": "ipython",
    "version": 3
   },
   "file_extension": ".py",
   "mimetype": "text/x-python",
   "name": "python",
   "nbconvert_exporter": "python",
   "pygments_lexer": "ipython3",
   "version": "3.10.0"
  }
 },
 "nbformat": 4,
 "nbformat_minor": 5
}
