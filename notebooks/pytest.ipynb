{
 "cells": [
  {
   "cell_type": "markdown",
   "id": "0a2050c9-6e24-4191-96e1-17eb09fe3c1d",
   "metadata": {},
   "source": [
    "# Advanced pytest\n",
    "\n",
    "See <https://scikit-hep.org/developer/pytest>\n",
    "\n"
   ]
  },
  {
   "cell_type": "markdown",
   "id": "957d44d7-fd3a-4b5c-bef8-98bec00311e6",
   "metadata": {},
   "source": [
    "## Approx equals\n",
    "\n",
    "```python\n",
    "def tests_approx():\n",
    "    assert 1/3 == approx(0.333333333)\n",
    "\n",
    "def test_array_eq():\n",
    "    assert np.array([1,2,3]) == pytest.approx(np.array([1.0000000001, 2, 3])\n",
    "```"
   ]
  },
  {
   "cell_type": "markdown",
   "id": "7e7a899f-e110-4fa3-b2eb-70706a4fb8b8",
   "metadata": {},
   "source": [
    "## Fixtures\n",
    "\n",
    "Fixtures are key to writing good pytest tests!\n",
    "\n",
    "There are built-in ones <https://docs.pytest.org/en/latest/reference/fixtures.html>:\n",
    "\n",
    "```python\n",
    "def test_path(tmp_path):\n",
    "    assert not tmp_path.exists()\n",
    "```\n"
   ]
  },
  {
   "cell_type": "markdown",
   "id": "a35861c0-7eec-491f-b1a2-e0e3937aab5e",
   "metadata": {},
   "source": [
    "And you can make your own:"
   ]
  },
  {
   "cell_type": "markdown",
   "id": "f989e795-4432-4595-a354-3575d739bbee",
   "metadata": {},
   "source": [
    "```python\n",
    "@pytest.fixture(params=[\"Linux\", \"Darwin\", \"Windows\"])\n",
    "def platform_system(request):\n",
    "    return request.param\n",
    "\n",
    "def test_example(platform_system):\n",
    "    assert platform_system in {\"Linux\", \"Darwin\", \"Windows\"}\n",
    "```"
   ]
  },
  {
   "cell_type": "markdown",
   "id": "584367df-20b2-400e-a670-66cec19af6d3",
   "metadata": {},
   "source": [
    "Most classic designs in older unit test systems can be expressed with fixtures!"
   ]
  },
  {
   "cell_type": "markdown",
   "id": "b6878182-f424-431b-882f-9267f04f8b78",
   "metadata": {},
   "source": [
    "## Marks\n",
    "\n",
    "You can add arbitrary marks to tests (but please declare them anyway!)"
   ]
  },
  {
   "cell_type": "markdown",
   "id": "d41e0c9f-9de6-4ba0-9b7e-1b83b1726358",
   "metadata": {},
   "source": [
    "## Running pytest!\n",
    "\n",
    "We will demo the following:\n",
    "\n",
    "```\n",
    "filename.py::testname\n",
    "-k regex\n",
    "-m mark\n",
    "-l/--show-locals\n",
    "--pdb\n",
    "--trace --lf\n",
    "```"
   ]
  },
  {
   "cell_type": "markdown",
   "id": "86d0851f-6521-4b12-9c79-dc5e4e389e2d",
   "metadata": {},
   "source": [
    "## Mock\n",
    "\n",
    "If something seems hard or slow to test - mock it!"
   ]
  },
  {
   "cell_type": "markdown",
   "id": "891eb306-a64d-4aa5-82b9-0d9fa39f7285",
   "metadata": {},
   "source": [
    "```python\n",
    "@pytest.fixture(params=[\"Linux\", \"Darwin\", \"Windows\"])\n",
    "def platform_system(request, monkeypatch):\n",
    "    monkeypatch.setattr(platform, \"system\", lambda : request.param)\n",
    "    return request.param\n",
    "```"
   ]
  }
 ],
 "metadata": {
  "kernelspec": {
   "display_name": "Python [conda env:developing-python-package] *",
   "language": "python",
   "name": "conda-env-developing-python-package-py"
  },
  "language_info": {
   "codemirror_mode": {
    "name": "ipython",
    "version": 3
   },
   "file_extension": ".py",
   "mimetype": "text/x-python",
   "name": "python",
   "nbconvert_exporter": "python",
   "pygments_lexer": "ipython3",
   "version": "3.10.0"
  }
 },
 "nbformat": 4,
 "nbformat_minor": 5
}
